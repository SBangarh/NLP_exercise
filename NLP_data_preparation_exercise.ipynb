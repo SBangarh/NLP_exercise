{
 "cells": [
  {
   "cell_type": "markdown",
   "metadata": {},
   "source": [
    "### NLP Data Preperation Exercise"
   ]
  },
  {
   "cell_type": "code",
   "execution_count": 1,
   "metadata": {
    "ExecuteTime": {
     "end_time": "2020-04-29T11:40:03.667630Z",
     "start_time": "2020-04-29T11:40:03.663429Z"
    }
   },
   "outputs": [],
   "source": [
    "# import pandas\n",
    "import pandas as pd"
   ]
  },
  {
   "cell_type": "code",
   "execution_count": 2,
   "metadata": {
    "ExecuteTime": {
     "end_time": "2020-04-29T11:40:04.044904Z",
     "start_time": "2020-04-29T11:40:03.861034Z"
    }
   },
   "outputs": [],
   "source": [
    "# load dataset\n",
    "dataset = pd.read_csv('https://media.geeksforgeeks.org/wp-content/uploads/Restaurant_Reviews.tsv', \n",
    "                      delimiter = '\\t',\n",
    "                      quoting=3)"
   ]
  },
  {
   "cell_type": "markdown",
   "metadata": {},
   "source": [
    "* print top 10 rows"
   ]
  },
  {
   "cell_type": "code",
   "execution_count": 3,
   "metadata": {
    "ExecuteTime": {
     "end_time": "2020-04-29T11:40:04.238480Z",
     "start_time": "2020-04-29T11:40:04.226793Z"
    }
   },
   "outputs": [
    {
     "data": {
      "text/html": [
       "<div>\n",
       "<style scoped>\n",
       "    .dataframe tbody tr th:only-of-type {\n",
       "        vertical-align: middle;\n",
       "    }\n",
       "\n",
       "    .dataframe tbody tr th {\n",
       "        vertical-align: top;\n",
       "    }\n",
       "\n",
       "    .dataframe thead th {\n",
       "        text-align: right;\n",
       "    }\n",
       "</style>\n",
       "<table border=\"1\" class=\"dataframe\">\n",
       "  <thead>\n",
       "    <tr style=\"text-align: right;\">\n",
       "      <th></th>\n",
       "      <th>Review</th>\n",
       "      <th>Liked</th>\n",
       "    </tr>\n",
       "  </thead>\n",
       "  <tbody>\n",
       "    <tr>\n",
       "      <th>0</th>\n",
       "      <td>Wow... Loved this place.</td>\n",
       "      <td>1</td>\n",
       "    </tr>\n",
       "    <tr>\n",
       "      <th>1</th>\n",
       "      <td>Crust is not good.</td>\n",
       "      <td>0</td>\n",
       "    </tr>\n",
       "    <tr>\n",
       "      <th>2</th>\n",
       "      <td>Not tasty and the texture was just nasty.</td>\n",
       "      <td>0</td>\n",
       "    </tr>\n",
       "    <tr>\n",
       "      <th>3</th>\n",
       "      <td>Stopped by during the late May bank holiday of...</td>\n",
       "      <td>1</td>\n",
       "    </tr>\n",
       "    <tr>\n",
       "      <th>4</th>\n",
       "      <td>The selection on the menu was great and so wer...</td>\n",
       "      <td>1</td>\n",
       "    </tr>\n",
       "    <tr>\n",
       "      <th>5</th>\n",
       "      <td>Now I am getting angry and I want my damn pho.</td>\n",
       "      <td>0</td>\n",
       "    </tr>\n",
       "    <tr>\n",
       "      <th>6</th>\n",
       "      <td>Honeslty it didn't taste THAT fresh.)</td>\n",
       "      <td>0</td>\n",
       "    </tr>\n",
       "    <tr>\n",
       "      <th>7</th>\n",
       "      <td>The potatoes were like rubber and you could te...</td>\n",
       "      <td>0</td>\n",
       "    </tr>\n",
       "    <tr>\n",
       "      <th>8</th>\n",
       "      <td>The fries were great too.</td>\n",
       "      <td>1</td>\n",
       "    </tr>\n",
       "    <tr>\n",
       "      <th>9</th>\n",
       "      <td>A great touch.</td>\n",
       "      <td>1</td>\n",
       "    </tr>\n",
       "  </tbody>\n",
       "</table>\n",
       "</div>"
      ],
      "text/plain": [
       "                                              Review  Liked\n",
       "0                           Wow... Loved this place.      1\n",
       "1                                 Crust is not good.      0\n",
       "2          Not tasty and the texture was just nasty.      0\n",
       "3  Stopped by during the late May bank holiday of...      1\n",
       "4  The selection on the menu was great and so wer...      1\n",
       "5     Now I am getting angry and I want my damn pho.      0\n",
       "6              Honeslty it didn't taste THAT fresh.)      0\n",
       "7  The potatoes were like rubber and you could te...      0\n",
       "8                          The fries were great too.      1\n",
       "9                                     A great touch.      1"
      ]
     },
     "execution_count": 3,
     "metadata": {},
     "output_type": "execute_result"
    }
   ],
   "source": [
    "dataset.head(10)"
   ]
  },
  {
   "cell_type": "markdown",
   "metadata": {},
   "source": [
    "* create a function that removes punctuation"
   ]
  },
  {
   "cell_type": "code",
   "execution_count": 18,
   "metadata": {},
   "outputs": [
    {
     "name": "stdout",
     "output_type": "stream",
     "text": [
      "showing info https://raw.githubusercontent.com/nltk/nltk_data/gh-pages/index.xml\n"
     ]
    },
    {
     "data": {
      "text/plain": [
       "True"
      ]
     },
     "execution_count": 18,
     "metadata": {},
     "output_type": "execute_result"
    }
   ],
   "source": [
    "import nltk\n",
    "nltk.download()"
   ]
  },
  {
   "cell_type": "code",
   "execution_count": 11,
   "metadata": {
    "ExecuteTime": {
     "end_time": "2020-04-29T11:40:04.593691Z",
     "start_time": "2020-04-29T11:40:04.588163Z"
    }
   },
   "outputs": [],
   "source": [
    "#need to split reviews into words\n",
    "from nltk.tokenize import word_tokenize\n",
    "\n",
    "def tokenize(data):\n",
    "    tokens = word_tokenize(data)\n",
    "    return tokens\n",
    "\n",
    "#function to remove punctuation\n",
    "def remove_punctuation(data):\n",
    "    words = [word for word in data if word.isalpha()]\n",
    "    return words"
   ]
  },
  {
   "cell_type": "code",
   "execution_count": 21,
   "metadata": {},
   "outputs": [
    {
     "data": {
      "text/html": [
       "<div>\n",
       "<style scoped>\n",
       "    .dataframe tbody tr th:only-of-type {\n",
       "        vertical-align: middle;\n",
       "    }\n",
       "\n",
       "    .dataframe tbody tr th {\n",
       "        vertical-align: top;\n",
       "    }\n",
       "\n",
       "    .dataframe thead th {\n",
       "        text-align: right;\n",
       "    }\n",
       "</style>\n",
       "<table border=\"1\" class=\"dataframe\">\n",
       "  <thead>\n",
       "    <tr style=\"text-align: right;\">\n",
       "      <th></th>\n",
       "      <th>Review</th>\n",
       "      <th>Liked</th>\n",
       "      <th>tokens</th>\n",
       "      <th>no punct</th>\n",
       "    </tr>\n",
       "  </thead>\n",
       "  <tbody>\n",
       "    <tr>\n",
       "      <th>0</th>\n",
       "      <td>Wow... Loved this place.</td>\n",
       "      <td>1</td>\n",
       "      <td>[Wow, ..., Loved, this, place, .]</td>\n",
       "      <td>[Wow, Loved, this, place]</td>\n",
       "    </tr>\n",
       "    <tr>\n",
       "      <th>1</th>\n",
       "      <td>Crust is not good.</td>\n",
       "      <td>0</td>\n",
       "      <td>[Crust, is, not, good, .]</td>\n",
       "      <td>[Crust, is, not, good]</td>\n",
       "    </tr>\n",
       "    <tr>\n",
       "      <th>2</th>\n",
       "      <td>Not tasty and the texture was just nasty.</td>\n",
       "      <td>0</td>\n",
       "      <td>[Not, tasty, and, the, texture, was, just, nas...</td>\n",
       "      <td>[Not, tasty, and, the, texture, was, just, nasty]</td>\n",
       "    </tr>\n",
       "    <tr>\n",
       "      <th>3</th>\n",
       "      <td>Stopped by during the late May bank holiday of...</td>\n",
       "      <td>1</td>\n",
       "      <td>[Stopped, by, during, the, late, May, bank, ho...</td>\n",
       "      <td>[Stopped, by, during, the, late, May, bank, ho...</td>\n",
       "    </tr>\n",
       "    <tr>\n",
       "      <th>4</th>\n",
       "      <td>The selection on the menu was great and so wer...</td>\n",
       "      <td>1</td>\n",
       "      <td>[The, selection, on, the, menu, was, great, an...</td>\n",
       "      <td>[The, selection, on, the, menu, was, great, an...</td>\n",
       "    </tr>\n",
       "    <tr>\n",
       "      <th>...</th>\n",
       "      <td>...</td>\n",
       "      <td>...</td>\n",
       "      <td>...</td>\n",
       "      <td>...</td>\n",
       "    </tr>\n",
       "    <tr>\n",
       "      <th>995</th>\n",
       "      <td>I think food should have flavor and texture an...</td>\n",
       "      <td>0</td>\n",
       "      <td>[I, think, food, should, have, flavor, and, te...</td>\n",
       "      <td>[I, think, food, should, have, flavor, and, te...</td>\n",
       "    </tr>\n",
       "    <tr>\n",
       "      <th>996</th>\n",
       "      <td>Appetite instantly gone.</td>\n",
       "      <td>0</td>\n",
       "      <td>[Appetite, instantly, gone, .]</td>\n",
       "      <td>[Appetite, instantly, gone]</td>\n",
       "    </tr>\n",
       "    <tr>\n",
       "      <th>997</th>\n",
       "      <td>Overall I was not impressed and would not go b...</td>\n",
       "      <td>0</td>\n",
       "      <td>[Overall, I, was, not, impressed, and, would, ...</td>\n",
       "      <td>[Overall, I, was, not, impressed, and, would, ...</td>\n",
       "    </tr>\n",
       "    <tr>\n",
       "      <th>998</th>\n",
       "      <td>The whole experience was underwhelming, and I ...</td>\n",
       "      <td>0</td>\n",
       "      <td>[The, whole, experience, was, underwhelming, ,...</td>\n",
       "      <td>[The, whole, experience, was, underwhelming, a...</td>\n",
       "    </tr>\n",
       "    <tr>\n",
       "      <th>999</th>\n",
       "      <td>Then, as if I hadn't wasted enough of my life ...</td>\n",
       "      <td>0</td>\n",
       "      <td>[Then, ,, as, if, I, had, n't, wasted, enough,...</td>\n",
       "      <td>[Then, as, if, I, had, wasted, enough, of, my,...</td>\n",
       "    </tr>\n",
       "  </tbody>\n",
       "</table>\n",
       "<p>1000 rows × 4 columns</p>\n",
       "</div>"
      ],
      "text/plain": [
       "                                                Review  Liked  \\\n",
       "0                             Wow... Loved this place.      1   \n",
       "1                                   Crust is not good.      0   \n",
       "2            Not tasty and the texture was just nasty.      0   \n",
       "3    Stopped by during the late May bank holiday of...      1   \n",
       "4    The selection on the menu was great and so wer...      1   \n",
       "..                                                 ...    ...   \n",
       "995  I think food should have flavor and texture an...      0   \n",
       "996                           Appetite instantly gone.      0   \n",
       "997  Overall I was not impressed and would not go b...      0   \n",
       "998  The whole experience was underwhelming, and I ...      0   \n",
       "999  Then, as if I hadn't wasted enough of my life ...      0   \n",
       "\n",
       "                                                tokens  \\\n",
       "0                    [Wow, ..., Loved, this, place, .]   \n",
       "1                            [Crust, is, not, good, .]   \n",
       "2    [Not, tasty, and, the, texture, was, just, nas...   \n",
       "3    [Stopped, by, during, the, late, May, bank, ho...   \n",
       "4    [The, selection, on, the, menu, was, great, an...   \n",
       "..                                                 ...   \n",
       "995  [I, think, food, should, have, flavor, and, te...   \n",
       "996                     [Appetite, instantly, gone, .]   \n",
       "997  [Overall, I, was, not, impressed, and, would, ...   \n",
       "998  [The, whole, experience, was, underwhelming, ,...   \n",
       "999  [Then, ,, as, if, I, had, n't, wasted, enough,...   \n",
       "\n",
       "                                              no punct  \n",
       "0                            [Wow, Loved, this, place]  \n",
       "1                               [Crust, is, not, good]  \n",
       "2    [Not, tasty, and, the, texture, was, just, nasty]  \n",
       "3    [Stopped, by, during, the, late, May, bank, ho...  \n",
       "4    [The, selection, on, the, menu, was, great, an...  \n",
       "..                                                 ...  \n",
       "995  [I, think, food, should, have, flavor, and, te...  \n",
       "996                        [Appetite, instantly, gone]  \n",
       "997  [Overall, I, was, not, impressed, and, would, ...  \n",
       "998  [The, whole, experience, was, underwhelming, a...  \n",
       "999  [Then, as, if, I, had, wasted, enough, of, my,...  \n",
       "\n",
       "[1000 rows x 4 columns]"
      ]
     },
     "execution_count": 21,
     "metadata": {},
     "output_type": "execute_result"
    }
   ],
   "source": [
    "#test functions\n",
    "my_copy = dataset.copy()\n",
    "\n",
    "my_copy['tokens'] = my_copy['Review'].apply(tokenize)\n",
    "my_copy['no punct'] = my_copy['tokens'].apply(remove_punctuation)\n",
    "\n",
    "my_copy"
   ]
  },
  {
   "cell_type": "markdown",
   "metadata": {},
   "source": [
    "* create a function that converts text to lowercase"
   ]
  },
  {
   "cell_type": "code",
   "execution_count": 27,
   "metadata": {
    "ExecuteTime": {
     "end_time": "2020-04-29T11:40:04.953719Z",
     "start_time": "2020-04-29T11:40:04.949990Z"
    }
   },
   "outputs": [],
   "source": [
    "#function to take to lower case\n",
    "def lower_case(data):\n",
    "    words_lower = [word.lower() for word in data]\n",
    "    return words_lower"
   ]
  },
  {
   "cell_type": "code",
   "execution_count": 28,
   "metadata": {},
   "outputs": [
    {
     "data": {
      "text/html": [
       "<div>\n",
       "<style scoped>\n",
       "    .dataframe tbody tr th:only-of-type {\n",
       "        vertical-align: middle;\n",
       "    }\n",
       "\n",
       "    .dataframe tbody tr th {\n",
       "        vertical-align: top;\n",
       "    }\n",
       "\n",
       "    .dataframe thead th {\n",
       "        text-align: right;\n",
       "    }\n",
       "</style>\n",
       "<table border=\"1\" class=\"dataframe\">\n",
       "  <thead>\n",
       "    <tr style=\"text-align: right;\">\n",
       "      <th></th>\n",
       "      <th>Review</th>\n",
       "      <th>Liked</th>\n",
       "      <th>tokens</th>\n",
       "      <th>no punct</th>\n",
       "      <th>lower</th>\n",
       "    </tr>\n",
       "  </thead>\n",
       "  <tbody>\n",
       "    <tr>\n",
       "      <th>0</th>\n",
       "      <td>Wow... Loved this place.</td>\n",
       "      <td>1</td>\n",
       "      <td>[Wow, ..., Loved, this, place, .]</td>\n",
       "      <td>[Wow, Loved, this, place]</td>\n",
       "      <td>[wow, loved, this, place]</td>\n",
       "    </tr>\n",
       "    <tr>\n",
       "      <th>1</th>\n",
       "      <td>Crust is not good.</td>\n",
       "      <td>0</td>\n",
       "      <td>[Crust, is, not, good, .]</td>\n",
       "      <td>[Crust, is, not, good]</td>\n",
       "      <td>[crust, is, not, good]</td>\n",
       "    </tr>\n",
       "    <tr>\n",
       "      <th>2</th>\n",
       "      <td>Not tasty and the texture was just nasty.</td>\n",
       "      <td>0</td>\n",
       "      <td>[Not, tasty, and, the, texture, was, just, nas...</td>\n",
       "      <td>[Not, tasty, and, the, texture, was, just, nasty]</td>\n",
       "      <td>[not, tasty, and, the, texture, was, just, nasty]</td>\n",
       "    </tr>\n",
       "    <tr>\n",
       "      <th>3</th>\n",
       "      <td>Stopped by during the late May bank holiday of...</td>\n",
       "      <td>1</td>\n",
       "      <td>[Stopped, by, during, the, late, May, bank, ho...</td>\n",
       "      <td>[Stopped, by, during, the, late, May, bank, ho...</td>\n",
       "      <td>[stopped, by, during, the, late, may, bank, ho...</td>\n",
       "    </tr>\n",
       "    <tr>\n",
       "      <th>4</th>\n",
       "      <td>The selection on the menu was great and so wer...</td>\n",
       "      <td>1</td>\n",
       "      <td>[The, selection, on, the, menu, was, great, an...</td>\n",
       "      <td>[The, selection, on, the, menu, was, great, an...</td>\n",
       "      <td>[the, selection, on, the, menu, was, great, an...</td>\n",
       "    </tr>\n",
       "    <tr>\n",
       "      <th>...</th>\n",
       "      <td>...</td>\n",
       "      <td>...</td>\n",
       "      <td>...</td>\n",
       "      <td>...</td>\n",
       "      <td>...</td>\n",
       "    </tr>\n",
       "    <tr>\n",
       "      <th>995</th>\n",
       "      <td>I think food should have flavor and texture an...</td>\n",
       "      <td>0</td>\n",
       "      <td>[I, think, food, should, have, flavor, and, te...</td>\n",
       "      <td>[I, think, food, should, have, flavor, and, te...</td>\n",
       "      <td>[i, think, food, should, have, flavor, and, te...</td>\n",
       "    </tr>\n",
       "    <tr>\n",
       "      <th>996</th>\n",
       "      <td>Appetite instantly gone.</td>\n",
       "      <td>0</td>\n",
       "      <td>[Appetite, instantly, gone, .]</td>\n",
       "      <td>[Appetite, instantly, gone]</td>\n",
       "      <td>[appetite, instantly, gone]</td>\n",
       "    </tr>\n",
       "    <tr>\n",
       "      <th>997</th>\n",
       "      <td>Overall I was not impressed and would not go b...</td>\n",
       "      <td>0</td>\n",
       "      <td>[Overall, I, was, not, impressed, and, would, ...</td>\n",
       "      <td>[Overall, I, was, not, impressed, and, would, ...</td>\n",
       "      <td>[overall, i, was, not, impressed, and, would, ...</td>\n",
       "    </tr>\n",
       "    <tr>\n",
       "      <th>998</th>\n",
       "      <td>The whole experience was underwhelming, and I ...</td>\n",
       "      <td>0</td>\n",
       "      <td>[The, whole, experience, was, underwhelming, ,...</td>\n",
       "      <td>[The, whole, experience, was, underwhelming, a...</td>\n",
       "      <td>[the, whole, experience, was, underwhelming, a...</td>\n",
       "    </tr>\n",
       "    <tr>\n",
       "      <th>999</th>\n",
       "      <td>Then, as if I hadn't wasted enough of my life ...</td>\n",
       "      <td>0</td>\n",
       "      <td>[Then, ,, as, if, I, had, n't, wasted, enough,...</td>\n",
       "      <td>[Then, as, if, I, had, wasted, enough, of, my,...</td>\n",
       "      <td>[then, as, if, i, had, wasted, enough, of, my,...</td>\n",
       "    </tr>\n",
       "  </tbody>\n",
       "</table>\n",
       "<p>1000 rows × 5 columns</p>\n",
       "</div>"
      ],
      "text/plain": [
       "                                                Review  Liked  \\\n",
       "0                             Wow... Loved this place.      1   \n",
       "1                                   Crust is not good.      0   \n",
       "2            Not tasty and the texture was just nasty.      0   \n",
       "3    Stopped by during the late May bank holiday of...      1   \n",
       "4    The selection on the menu was great and so wer...      1   \n",
       "..                                                 ...    ...   \n",
       "995  I think food should have flavor and texture an...      0   \n",
       "996                           Appetite instantly gone.      0   \n",
       "997  Overall I was not impressed and would not go b...      0   \n",
       "998  The whole experience was underwhelming, and I ...      0   \n",
       "999  Then, as if I hadn't wasted enough of my life ...      0   \n",
       "\n",
       "                                                tokens  \\\n",
       "0                    [Wow, ..., Loved, this, place, .]   \n",
       "1                            [Crust, is, not, good, .]   \n",
       "2    [Not, tasty, and, the, texture, was, just, nas...   \n",
       "3    [Stopped, by, during, the, late, May, bank, ho...   \n",
       "4    [The, selection, on, the, menu, was, great, an...   \n",
       "..                                                 ...   \n",
       "995  [I, think, food, should, have, flavor, and, te...   \n",
       "996                     [Appetite, instantly, gone, .]   \n",
       "997  [Overall, I, was, not, impressed, and, would, ...   \n",
       "998  [The, whole, experience, was, underwhelming, ,...   \n",
       "999  [Then, ,, as, if, I, had, n't, wasted, enough,...   \n",
       "\n",
       "                                              no punct  \\\n",
       "0                            [Wow, Loved, this, place]   \n",
       "1                               [Crust, is, not, good]   \n",
       "2    [Not, tasty, and, the, texture, was, just, nasty]   \n",
       "3    [Stopped, by, during, the, late, May, bank, ho...   \n",
       "4    [The, selection, on, the, menu, was, great, an...   \n",
       "..                                                 ...   \n",
       "995  [I, think, food, should, have, flavor, and, te...   \n",
       "996                        [Appetite, instantly, gone]   \n",
       "997  [Overall, I, was, not, impressed, and, would, ...   \n",
       "998  [The, whole, experience, was, underwhelming, a...   \n",
       "999  [Then, as, if, I, had, wasted, enough, of, my,...   \n",
       "\n",
       "                                                 lower  \n",
       "0                            [wow, loved, this, place]  \n",
       "1                               [crust, is, not, good]  \n",
       "2    [not, tasty, and, the, texture, was, just, nasty]  \n",
       "3    [stopped, by, during, the, late, may, bank, ho...  \n",
       "4    [the, selection, on, the, menu, was, great, an...  \n",
       "..                                                 ...  \n",
       "995  [i, think, food, should, have, flavor, and, te...  \n",
       "996                        [appetite, instantly, gone]  \n",
       "997  [overall, i, was, not, impressed, and, would, ...  \n",
       "998  [the, whole, experience, was, underwhelming, a...  \n",
       "999  [then, as, if, i, had, wasted, enough, of, my,...  \n",
       "\n",
       "[1000 rows x 5 columns]"
      ]
     },
     "execution_count": 28,
     "metadata": {},
     "output_type": "execute_result"
    }
   ],
   "source": [
    "#test function\n",
    "my_copy['lower'] = my_copy['no punct'].apply(lower_case)\n",
    "my_copy"
   ]
  },
  {
   "cell_type": "markdown",
   "metadata": {},
   "source": [
    "* import nltk and download stopwords"
   ]
  },
  {
   "cell_type": "code",
   "execution_count": 9,
   "metadata": {
    "ExecuteTime": {
     "end_time": "2020-04-29T11:40:07.172105Z",
     "start_time": "2020-04-29T11:40:05.315632Z"
    }
   },
   "outputs": [
    {
     "name": "stderr",
     "output_type": "stream",
     "text": [
      "[nltk_data] Downloading package stopwords to\n",
      "[nltk_data]     /home/sbangarh/nltk_data...\n",
      "[nltk_data]   Unzipping corpora/stopwords.zip.\n"
     ]
    },
    {
     "data": {
      "text/plain": [
       "True"
      ]
     },
     "execution_count": 9,
     "metadata": {},
     "output_type": "execute_result"
    }
   ],
   "source": [
    "import nltk  # insalling nltk\n",
    "nltk.download('stopwords')\n"
   ]
  },
  {
   "cell_type": "code",
   "execution_count": 10,
   "metadata": {},
   "outputs": [
    {
     "name": "stdout",
     "output_type": "stream",
     "text": [
      "['i', 'me', 'my', 'myself', 'we', 'our', 'ours', 'ourselves', 'you', \"you're\", \"you've\", \"you'll\", \"you'd\", 'your', 'yours', 'yourself', 'yourselves', 'he', 'him', 'his', 'himself', 'she', \"she's\", 'her', 'hers', 'herself', 'it', \"it's\", 'its', 'itself', 'they', 'them', 'their', 'theirs', 'themselves', 'what', 'which', 'who', 'whom', 'this', 'that', \"that'll\", 'these', 'those', 'am', 'is', 'are', 'was', 'were', 'be', 'been', 'being', 'have', 'has', 'had', 'having', 'do', 'does', 'did', 'doing', 'a', 'an', 'the', 'and', 'but', 'if', 'or', 'because', 'as', 'until', 'while', 'of', 'at', 'by', 'for', 'with', 'about', 'against', 'between', 'into', 'through', 'during', 'before', 'after', 'above', 'below', 'to', 'from', 'up', 'down', 'in', 'out', 'on', 'off', 'over', 'under', 'again', 'further', 'then', 'once', 'here', 'there', 'when', 'where', 'why', 'how', 'all', 'any', 'both', 'each', 'few', 'more', 'most', 'other', 'some', 'such', 'no', 'nor', 'not', 'only', 'own', 'same', 'so', 'than', 'too', 'very', 's', 't', 'can', 'will', 'just', 'don', \"don't\", 'should', \"should've\", 'now', 'd', 'll', 'm', 'o', 're', 've', 'y', 'ain', 'aren', \"aren't\", 'couldn', \"couldn't\", 'didn', \"didn't\", 'doesn', \"doesn't\", 'hadn', \"hadn't\", 'hasn', \"hasn't\", 'haven', \"haven't\", 'isn', \"isn't\", 'ma', 'mightn', \"mightn't\", 'mustn', \"mustn't\", 'needn', \"needn't\", 'shan', \"shan't\", 'shouldn', \"shouldn't\", 'wasn', \"wasn't\", 'weren', \"weren't\", 'won', \"won't\", 'wouldn', \"wouldn't\"]\n"
     ]
    }
   ],
   "source": [
    "from nltk.corpus import stopwords #stop words from nltk\n",
    "stop_words = stopwords.words('english')\n",
    "print(stop_words)"
   ]
  },
  {
   "cell_type": "markdown",
   "metadata": {},
   "source": [
    "* create a function that removes stopwords"
   ]
  },
  {
   "cell_type": "code",
   "execution_count": 32,
   "metadata": {
    "ExecuteTime": {
     "end_time": "2020-04-29T11:40:07.235109Z",
     "start_time": "2020-04-29T11:40:07.225647Z"
    }
   },
   "outputs": [],
   "source": [
    "from nltk.tokenize import word_tokenize\n",
    "\n",
    "\n",
    "def remove_stopwords(data):\n",
    "    stop_words = stopwords.words('english') #make sure stopwords is downloaded from nltk\n",
    "    filtered_data = [word for word in data if word not in stop_words]\n",
    "    return filtered_data\n"
   ]
  },
  {
   "cell_type": "markdown",
   "metadata": {},
   "source": [
    "* import Lemmatizer from nltk and download wordnet"
   ]
  },
  {
   "cell_type": "code",
   "execution_count": 38,
   "metadata": {
    "ExecuteTime": {
     "end_time": "2020-04-29T11:40:07.325675Z",
     "start_time": "2020-04-29T11:40:07.286398Z"
    }
   },
   "outputs": [],
   "source": [
    "from nltk.stem import WordNetLemmatizer"
   ]
  },
  {
   "cell_type": "markdown",
   "metadata": {},
   "source": [
    "* create a function that lemmatizes text"
   ]
  },
  {
   "cell_type": "code",
   "execution_count": 43,
   "metadata": {
    "ExecuteTime": {
     "end_time": "2020-04-29T11:40:07.408715Z",
     "start_time": "2020-04-29T11:40:07.397412Z"
    }
   },
   "outputs": [],
   "source": [
    "def lemmatize(data):\n",
    "    lemmatizer = WordNetLemmatizer() #initialize object\n",
    "    lemmatized_words = [lemmatizer.lemmatize(word) for word in data]\n",
    "    return lemmatized_words"
   ]
  },
  {
   "cell_type": "markdown",
   "metadata": {},
   "source": [
    "* import Stemming from nltk"
   ]
  },
  {
   "cell_type": "code",
   "execution_count": 40,
   "metadata": {
    "ExecuteTime": {
     "end_time": "2020-04-29T11:40:07.467033Z",
     "start_time": "2020-04-29T11:40:07.457053Z"
    }
   },
   "outputs": [],
   "source": [
    "from nltk.stem import PorterStemmer"
   ]
  },
  {
   "cell_type": "markdown",
   "metadata": {},
   "source": [
    "* create a function thath stems text"
   ]
  },
  {
   "cell_type": "code",
   "execution_count": 44,
   "metadata": {
    "ExecuteTime": {
     "end_time": "2020-04-29T11:40:07.516026Z",
     "start_time": "2020-04-29T11:40:07.509217Z"
    }
   },
   "outputs": [],
   "source": [
    "#stem text\n",
    "def stem_text(data):\n",
    "    stemer = PorterStemmer() #initialize\n",
    "    stemmed = [stemer.stem(word) for word in data]\n",
    "    return stemmed"
   ]
  },
  {
   "cell_type": "markdown",
   "metadata": {},
   "source": [
    "* Define a function `'preprocess'` that applies all the preprocessing steps we defined above, **without** Stemming and Lemmatizing, to text."
   ]
  },
  {
   "cell_type": "code",
   "execution_count": 33,
   "metadata": {
    "ExecuteTime": {
     "end_time": "2020-04-29T11:40:07.579774Z",
     "start_time": "2020-04-29T11:40:07.562065Z"
    }
   },
   "outputs": [],
   "source": [
    "def preprocess(data):\n",
    "    tokens = tokenize(data)\n",
    "    stripped = remove_punctuation(tokens)\n",
    "    lower_stripped = lower_case(stripped)\n",
    "    clean = remove_stopwords(lower_stripped)\n",
    "    return clean"
   ]
  },
  {
   "cell_type": "markdown",
   "metadata": {},
   "source": [
    "* Create a new column in dataset with name 'Review_clean' and store the preprocessed reviews."
   ]
  },
  {
   "cell_type": "code",
   "execution_count": 34,
   "metadata": {
    "ExecuteTime": {
     "end_time": "2020-04-29T11:40:09.529347Z",
     "start_time": "2020-04-29T11:40:07.810861Z"
    }
   },
   "outputs": [],
   "source": [
    "dataset['Review_clean'] = dataset['Review'].apply(preprocess)"
   ]
  },
  {
   "cell_type": "code",
   "execution_count": 35,
   "metadata": {},
   "outputs": [
    {
     "data": {
      "text/html": [
       "<div>\n",
       "<style scoped>\n",
       "    .dataframe tbody tr th:only-of-type {\n",
       "        vertical-align: middle;\n",
       "    }\n",
       "\n",
       "    .dataframe tbody tr th {\n",
       "        vertical-align: top;\n",
       "    }\n",
       "\n",
       "    .dataframe thead th {\n",
       "        text-align: right;\n",
       "    }\n",
       "</style>\n",
       "<table border=\"1\" class=\"dataframe\">\n",
       "  <thead>\n",
       "    <tr style=\"text-align: right;\">\n",
       "      <th></th>\n",
       "      <th>Review</th>\n",
       "      <th>Liked</th>\n",
       "      <th>Review_clean</th>\n",
       "    </tr>\n",
       "  </thead>\n",
       "  <tbody>\n",
       "    <tr>\n",
       "      <th>0</th>\n",
       "      <td>Wow... Loved this place.</td>\n",
       "      <td>1</td>\n",
       "      <td>[wow, loved, place]</td>\n",
       "    </tr>\n",
       "    <tr>\n",
       "      <th>1</th>\n",
       "      <td>Crust is not good.</td>\n",
       "      <td>0</td>\n",
       "      <td>[crust, good]</td>\n",
       "    </tr>\n",
       "    <tr>\n",
       "      <th>2</th>\n",
       "      <td>Not tasty and the texture was just nasty.</td>\n",
       "      <td>0</td>\n",
       "      <td>[tasty, texture, nasty]</td>\n",
       "    </tr>\n",
       "    <tr>\n",
       "      <th>3</th>\n",
       "      <td>Stopped by during the late May bank holiday of...</td>\n",
       "      <td>1</td>\n",
       "      <td>[stopped, late, may, bank, holiday, rick, stev...</td>\n",
       "    </tr>\n",
       "    <tr>\n",
       "      <th>4</th>\n",
       "      <td>The selection on the menu was great and so wer...</td>\n",
       "      <td>1</td>\n",
       "      <td>[selection, menu, great, prices]</td>\n",
       "    </tr>\n",
       "    <tr>\n",
       "      <th>...</th>\n",
       "      <td>...</td>\n",
       "      <td>...</td>\n",
       "      <td>...</td>\n",
       "    </tr>\n",
       "    <tr>\n",
       "      <th>995</th>\n",
       "      <td>I think food should have flavor and texture an...</td>\n",
       "      <td>0</td>\n",
       "      <td>[think, food, flavor, texture, lacking]</td>\n",
       "    </tr>\n",
       "    <tr>\n",
       "      <th>996</th>\n",
       "      <td>Appetite instantly gone.</td>\n",
       "      <td>0</td>\n",
       "      <td>[appetite, instantly, gone]</td>\n",
       "    </tr>\n",
       "    <tr>\n",
       "      <th>997</th>\n",
       "      <td>Overall I was not impressed and would not go b...</td>\n",
       "      <td>0</td>\n",
       "      <td>[overall, impressed, would, go, back]</td>\n",
       "    </tr>\n",
       "    <tr>\n",
       "      <th>998</th>\n",
       "      <td>The whole experience was underwhelming, and I ...</td>\n",
       "      <td>0</td>\n",
       "      <td>[whole, experience, underwhelming, think, go, ...</td>\n",
       "    </tr>\n",
       "    <tr>\n",
       "      <th>999</th>\n",
       "      <td>Then, as if I hadn't wasted enough of my life ...</td>\n",
       "      <td>0</td>\n",
       "      <td>[wasted, enough, life, poured, salt, wound, dr...</td>\n",
       "    </tr>\n",
       "  </tbody>\n",
       "</table>\n",
       "<p>1000 rows × 3 columns</p>\n",
       "</div>"
      ],
      "text/plain": [
       "                                                Review  Liked  \\\n",
       "0                             Wow... Loved this place.      1   \n",
       "1                                   Crust is not good.      0   \n",
       "2            Not tasty and the texture was just nasty.      0   \n",
       "3    Stopped by during the late May bank holiday of...      1   \n",
       "4    The selection on the menu was great and so wer...      1   \n",
       "..                                                 ...    ...   \n",
       "995  I think food should have flavor and texture an...      0   \n",
       "996                           Appetite instantly gone.      0   \n",
       "997  Overall I was not impressed and would not go b...      0   \n",
       "998  The whole experience was underwhelming, and I ...      0   \n",
       "999  Then, as if I hadn't wasted enough of my life ...      0   \n",
       "\n",
       "                                          Review_clean  \n",
       "0                                  [wow, loved, place]  \n",
       "1                                        [crust, good]  \n",
       "2                              [tasty, texture, nasty]  \n",
       "3    [stopped, late, may, bank, holiday, rick, stev...  \n",
       "4                     [selection, menu, great, prices]  \n",
       "..                                                 ...  \n",
       "995            [think, food, flavor, texture, lacking]  \n",
       "996                        [appetite, instantly, gone]  \n",
       "997              [overall, impressed, would, go, back]  \n",
       "998  [whole, experience, underwhelming, think, go, ...  \n",
       "999  [wasted, enough, life, poured, salt, wound, dr...  \n",
       "\n",
       "[1000 rows x 3 columns]"
      ]
     },
     "execution_count": 35,
     "metadata": {},
     "output_type": "execute_result"
    }
   ],
   "source": [
    "dataset"
   ]
  },
  {
   "cell_type": "markdown",
   "metadata": {},
   "source": [
    "* print top 10 rows of the dataset"
   ]
  },
  {
   "cell_type": "code",
   "execution_count": 36,
   "metadata": {
    "ExecuteTime": {
     "end_time": "2020-04-29T11:40:09.595017Z",
     "start_time": "2020-04-29T11:40:09.579025Z"
    }
   },
   "outputs": [
    {
     "data": {
      "text/html": [
       "<div>\n",
       "<style scoped>\n",
       "    .dataframe tbody tr th:only-of-type {\n",
       "        vertical-align: middle;\n",
       "    }\n",
       "\n",
       "    .dataframe tbody tr th {\n",
       "        vertical-align: top;\n",
       "    }\n",
       "\n",
       "    .dataframe thead th {\n",
       "        text-align: right;\n",
       "    }\n",
       "</style>\n",
       "<table border=\"1\" class=\"dataframe\">\n",
       "  <thead>\n",
       "    <tr style=\"text-align: right;\">\n",
       "      <th></th>\n",
       "      <th>Review</th>\n",
       "      <th>Liked</th>\n",
       "      <th>Review_clean</th>\n",
       "    </tr>\n",
       "  </thead>\n",
       "  <tbody>\n",
       "    <tr>\n",
       "      <th>0</th>\n",
       "      <td>Wow... Loved this place.</td>\n",
       "      <td>1</td>\n",
       "      <td>[wow, loved, place]</td>\n",
       "    </tr>\n",
       "    <tr>\n",
       "      <th>1</th>\n",
       "      <td>Crust is not good.</td>\n",
       "      <td>0</td>\n",
       "      <td>[crust, good]</td>\n",
       "    </tr>\n",
       "    <tr>\n",
       "      <th>2</th>\n",
       "      <td>Not tasty and the texture was just nasty.</td>\n",
       "      <td>0</td>\n",
       "      <td>[tasty, texture, nasty]</td>\n",
       "    </tr>\n",
       "    <tr>\n",
       "      <th>3</th>\n",
       "      <td>Stopped by during the late May bank holiday of...</td>\n",
       "      <td>1</td>\n",
       "      <td>[stopped, late, may, bank, holiday, rick, stev...</td>\n",
       "    </tr>\n",
       "    <tr>\n",
       "      <th>4</th>\n",
       "      <td>The selection on the menu was great and so wer...</td>\n",
       "      <td>1</td>\n",
       "      <td>[selection, menu, great, prices]</td>\n",
       "    </tr>\n",
       "    <tr>\n",
       "      <th>5</th>\n",
       "      <td>Now I am getting angry and I want my damn pho.</td>\n",
       "      <td>0</td>\n",
       "      <td>[getting, angry, want, damn, pho]</td>\n",
       "    </tr>\n",
       "    <tr>\n",
       "      <th>6</th>\n",
       "      <td>Honeslty it didn't taste THAT fresh.)</td>\n",
       "      <td>0</td>\n",
       "      <td>[honeslty, taste, fresh]</td>\n",
       "    </tr>\n",
       "    <tr>\n",
       "      <th>7</th>\n",
       "      <td>The potatoes were like rubber and you could te...</td>\n",
       "      <td>0</td>\n",
       "      <td>[potatoes, like, rubber, could, tell, made, ah...</td>\n",
       "    </tr>\n",
       "    <tr>\n",
       "      <th>8</th>\n",
       "      <td>The fries were great too.</td>\n",
       "      <td>1</td>\n",
       "      <td>[fries, great]</td>\n",
       "    </tr>\n",
       "    <tr>\n",
       "      <th>9</th>\n",
       "      <td>A great touch.</td>\n",
       "      <td>1</td>\n",
       "      <td>[great, touch]</td>\n",
       "    </tr>\n",
       "  </tbody>\n",
       "</table>\n",
       "</div>"
      ],
      "text/plain": [
       "                                              Review  Liked  \\\n",
       "0                           Wow... Loved this place.      1   \n",
       "1                                 Crust is not good.      0   \n",
       "2          Not tasty and the texture was just nasty.      0   \n",
       "3  Stopped by during the late May bank holiday of...      1   \n",
       "4  The selection on the menu was great and so wer...      1   \n",
       "5     Now I am getting angry and I want my damn pho.      0   \n",
       "6              Honeslty it didn't taste THAT fresh.)      0   \n",
       "7  The potatoes were like rubber and you could te...      0   \n",
       "8                          The fries were great too.      1   \n",
       "9                                     A great touch.      1   \n",
       "\n",
       "                                        Review_clean  \n",
       "0                                [wow, loved, place]  \n",
       "1                                      [crust, good]  \n",
       "2                            [tasty, texture, nasty]  \n",
       "3  [stopped, late, may, bank, holiday, rick, stev...  \n",
       "4                   [selection, menu, great, prices]  \n",
       "5                  [getting, angry, want, damn, pho]  \n",
       "6                           [honeslty, taste, fresh]  \n",
       "7  [potatoes, like, rubber, could, tell, made, ah...  \n",
       "8                                     [fries, great]  \n",
       "9                                     [great, touch]  "
      ]
     },
     "execution_count": 36,
     "metadata": {},
     "output_type": "execute_result"
    }
   ],
   "source": [
    "dataset.head(10)"
   ]
  },
  {
   "cell_type": "markdown",
   "metadata": {},
   "source": [
    "* apply the lemmatizer function above on the 'Review_clean' column of the dataset.\n",
    "* store the result in a 'Lemmatized' column"
   ]
  },
  {
   "cell_type": "code",
   "execution_count": 45,
   "metadata": {
    "ExecuteTime": {
     "end_time": "2020-04-29T11:40:11.380853Z",
     "start_time": "2020-04-29T11:40:09.630497Z"
    }
   },
   "outputs": [],
   "source": [
    "dataset['Lemmatized'] = dataset['Review_clean'].apply(lemmatize)"
   ]
  },
  {
   "cell_type": "markdown",
   "metadata": {},
   "source": [
    "* print top 10 rows of the dataset"
   ]
  },
  {
   "cell_type": "code",
   "execution_count": 46,
   "metadata": {
    "ExecuteTime": {
     "end_time": "2020-04-29T11:40:11.433810Z",
     "start_time": "2020-04-29T11:40:11.421811Z"
    }
   },
   "outputs": [
    {
     "data": {
      "text/html": [
       "<div>\n",
       "<style scoped>\n",
       "    .dataframe tbody tr th:only-of-type {\n",
       "        vertical-align: middle;\n",
       "    }\n",
       "\n",
       "    .dataframe tbody tr th {\n",
       "        vertical-align: top;\n",
       "    }\n",
       "\n",
       "    .dataframe thead th {\n",
       "        text-align: right;\n",
       "    }\n",
       "</style>\n",
       "<table border=\"1\" class=\"dataframe\">\n",
       "  <thead>\n",
       "    <tr style=\"text-align: right;\">\n",
       "      <th></th>\n",
       "      <th>Review</th>\n",
       "      <th>Liked</th>\n",
       "      <th>Review_clean</th>\n",
       "      <th>Lemmatized</th>\n",
       "    </tr>\n",
       "  </thead>\n",
       "  <tbody>\n",
       "    <tr>\n",
       "      <th>0</th>\n",
       "      <td>Wow... Loved this place.</td>\n",
       "      <td>1</td>\n",
       "      <td>[wow, loved, place]</td>\n",
       "      <td>[wow, loved, place]</td>\n",
       "    </tr>\n",
       "    <tr>\n",
       "      <th>1</th>\n",
       "      <td>Crust is not good.</td>\n",
       "      <td>0</td>\n",
       "      <td>[crust, good]</td>\n",
       "      <td>[crust, good]</td>\n",
       "    </tr>\n",
       "    <tr>\n",
       "      <th>2</th>\n",
       "      <td>Not tasty and the texture was just nasty.</td>\n",
       "      <td>0</td>\n",
       "      <td>[tasty, texture, nasty]</td>\n",
       "      <td>[tasty, texture, nasty]</td>\n",
       "    </tr>\n",
       "    <tr>\n",
       "      <th>3</th>\n",
       "      <td>Stopped by during the late May bank holiday of...</td>\n",
       "      <td>1</td>\n",
       "      <td>[stopped, late, may, bank, holiday, rick, stev...</td>\n",
       "      <td>[stopped, late, may, bank, holiday, rick, stev...</td>\n",
       "    </tr>\n",
       "    <tr>\n",
       "      <th>4</th>\n",
       "      <td>The selection on the menu was great and so wer...</td>\n",
       "      <td>1</td>\n",
       "      <td>[selection, menu, great, prices]</td>\n",
       "      <td>[selection, menu, great, price]</td>\n",
       "    </tr>\n",
       "    <tr>\n",
       "      <th>5</th>\n",
       "      <td>Now I am getting angry and I want my damn pho.</td>\n",
       "      <td>0</td>\n",
       "      <td>[getting, angry, want, damn, pho]</td>\n",
       "      <td>[getting, angry, want, damn, pho]</td>\n",
       "    </tr>\n",
       "    <tr>\n",
       "      <th>6</th>\n",
       "      <td>Honeslty it didn't taste THAT fresh.)</td>\n",
       "      <td>0</td>\n",
       "      <td>[honeslty, taste, fresh]</td>\n",
       "      <td>[honeslty, taste, fresh]</td>\n",
       "    </tr>\n",
       "    <tr>\n",
       "      <th>7</th>\n",
       "      <td>The potatoes were like rubber and you could te...</td>\n",
       "      <td>0</td>\n",
       "      <td>[potatoes, like, rubber, could, tell, made, ah...</td>\n",
       "      <td>[potato, like, rubber, could, tell, made, ahea...</td>\n",
       "    </tr>\n",
       "    <tr>\n",
       "      <th>8</th>\n",
       "      <td>The fries were great too.</td>\n",
       "      <td>1</td>\n",
       "      <td>[fries, great]</td>\n",
       "      <td>[fry, great]</td>\n",
       "    </tr>\n",
       "    <tr>\n",
       "      <th>9</th>\n",
       "      <td>A great touch.</td>\n",
       "      <td>1</td>\n",
       "      <td>[great, touch]</td>\n",
       "      <td>[great, touch]</td>\n",
       "    </tr>\n",
       "  </tbody>\n",
       "</table>\n",
       "</div>"
      ],
      "text/plain": [
       "                                              Review  Liked  \\\n",
       "0                           Wow... Loved this place.      1   \n",
       "1                                 Crust is not good.      0   \n",
       "2          Not tasty and the texture was just nasty.      0   \n",
       "3  Stopped by during the late May bank holiday of...      1   \n",
       "4  The selection on the menu was great and so wer...      1   \n",
       "5     Now I am getting angry and I want my damn pho.      0   \n",
       "6              Honeslty it didn't taste THAT fresh.)      0   \n",
       "7  The potatoes were like rubber and you could te...      0   \n",
       "8                          The fries were great too.      1   \n",
       "9                                     A great touch.      1   \n",
       "\n",
       "                                        Review_clean  \\\n",
       "0                                [wow, loved, place]   \n",
       "1                                      [crust, good]   \n",
       "2                            [tasty, texture, nasty]   \n",
       "3  [stopped, late, may, bank, holiday, rick, stev...   \n",
       "4                   [selection, menu, great, prices]   \n",
       "5                  [getting, angry, want, damn, pho]   \n",
       "6                           [honeslty, taste, fresh]   \n",
       "7  [potatoes, like, rubber, could, tell, made, ah...   \n",
       "8                                     [fries, great]   \n",
       "9                                     [great, touch]   \n",
       "\n",
       "                                          Lemmatized  \n",
       "0                                [wow, loved, place]  \n",
       "1                                      [crust, good]  \n",
       "2                            [tasty, texture, nasty]  \n",
       "3  [stopped, late, may, bank, holiday, rick, stev...  \n",
       "4                    [selection, menu, great, price]  \n",
       "5                  [getting, angry, want, damn, pho]  \n",
       "6                           [honeslty, taste, fresh]  \n",
       "7  [potato, like, rubber, could, tell, made, ahea...  \n",
       "8                                       [fry, great]  \n",
       "9                                     [great, touch]  "
      ]
     },
     "execution_count": 46,
     "metadata": {},
     "output_type": "execute_result"
    }
   ],
   "source": [
    "dataset.head(10)"
   ]
  },
  {
   "cell_type": "markdown",
   "metadata": {},
   "source": [
    "* apply stemmer defined above on 'Review_clean' column of the dataset.\n",
    "* store the result in 'Stemmed' column"
   ]
  },
  {
   "cell_type": "code",
   "execution_count": 47,
   "metadata": {
    "ExecuteTime": {
     "end_time": "2020-04-29T11:40:11.677728Z",
     "start_time": "2020-04-29T11:40:11.472960Z"
    }
   },
   "outputs": [],
   "source": [
    "dataset['Stemmed'] = dataset['Review_clean'].apply(stem_text)"
   ]
  },
  {
   "cell_type": "markdown",
   "metadata": {},
   "source": [
    "* print top 10 rows of the dataset"
   ]
  },
  {
   "cell_type": "code",
   "execution_count": 48,
   "metadata": {},
   "outputs": [
    {
     "data": {
      "text/html": [
       "<div>\n",
       "<style scoped>\n",
       "    .dataframe tbody tr th:only-of-type {\n",
       "        vertical-align: middle;\n",
       "    }\n",
       "\n",
       "    .dataframe tbody tr th {\n",
       "        vertical-align: top;\n",
       "    }\n",
       "\n",
       "    .dataframe thead th {\n",
       "        text-align: right;\n",
       "    }\n",
       "</style>\n",
       "<table border=\"1\" class=\"dataframe\">\n",
       "  <thead>\n",
       "    <tr style=\"text-align: right;\">\n",
       "      <th></th>\n",
       "      <th>Review</th>\n",
       "      <th>Liked</th>\n",
       "      <th>Review_clean</th>\n",
       "      <th>Lemmatized</th>\n",
       "      <th>Stemmed</th>\n",
       "    </tr>\n",
       "  </thead>\n",
       "  <tbody>\n",
       "    <tr>\n",
       "      <th>0</th>\n",
       "      <td>Wow... Loved this place.</td>\n",
       "      <td>1</td>\n",
       "      <td>[wow, loved, place]</td>\n",
       "      <td>[wow, loved, place]</td>\n",
       "      <td>[wow, love, place]</td>\n",
       "    </tr>\n",
       "    <tr>\n",
       "      <th>1</th>\n",
       "      <td>Crust is not good.</td>\n",
       "      <td>0</td>\n",
       "      <td>[crust, good]</td>\n",
       "      <td>[crust, good]</td>\n",
       "      <td>[crust, good]</td>\n",
       "    </tr>\n",
       "    <tr>\n",
       "      <th>2</th>\n",
       "      <td>Not tasty and the texture was just nasty.</td>\n",
       "      <td>0</td>\n",
       "      <td>[tasty, texture, nasty]</td>\n",
       "      <td>[tasty, texture, nasty]</td>\n",
       "      <td>[tasti, textur, nasti]</td>\n",
       "    </tr>\n",
       "    <tr>\n",
       "      <th>3</th>\n",
       "      <td>Stopped by during the late May bank holiday of...</td>\n",
       "      <td>1</td>\n",
       "      <td>[stopped, late, may, bank, holiday, rick, stev...</td>\n",
       "      <td>[stopped, late, may, bank, holiday, rick, stev...</td>\n",
       "      <td>[stop, late, may, bank, holiday, rick, steve, ...</td>\n",
       "    </tr>\n",
       "    <tr>\n",
       "      <th>4</th>\n",
       "      <td>The selection on the menu was great and so wer...</td>\n",
       "      <td>1</td>\n",
       "      <td>[selection, menu, great, prices]</td>\n",
       "      <td>[selection, menu, great, price]</td>\n",
       "      <td>[select, menu, great, price]</td>\n",
       "    </tr>\n",
       "    <tr>\n",
       "      <th>5</th>\n",
       "      <td>Now I am getting angry and I want my damn pho.</td>\n",
       "      <td>0</td>\n",
       "      <td>[getting, angry, want, damn, pho]</td>\n",
       "      <td>[getting, angry, want, damn, pho]</td>\n",
       "      <td>[get, angri, want, damn, pho]</td>\n",
       "    </tr>\n",
       "    <tr>\n",
       "      <th>6</th>\n",
       "      <td>Honeslty it didn't taste THAT fresh.)</td>\n",
       "      <td>0</td>\n",
       "      <td>[honeslty, taste, fresh]</td>\n",
       "      <td>[honeslty, taste, fresh]</td>\n",
       "      <td>[honeslti, tast, fresh]</td>\n",
       "    </tr>\n",
       "    <tr>\n",
       "      <th>7</th>\n",
       "      <td>The potatoes were like rubber and you could te...</td>\n",
       "      <td>0</td>\n",
       "      <td>[potatoes, like, rubber, could, tell, made, ah...</td>\n",
       "      <td>[potato, like, rubber, could, tell, made, ahea...</td>\n",
       "      <td>[potato, like, rubber, could, tell, made, ahea...</td>\n",
       "    </tr>\n",
       "    <tr>\n",
       "      <th>8</th>\n",
       "      <td>The fries were great too.</td>\n",
       "      <td>1</td>\n",
       "      <td>[fries, great]</td>\n",
       "      <td>[fry, great]</td>\n",
       "      <td>[fri, great]</td>\n",
       "    </tr>\n",
       "    <tr>\n",
       "      <th>9</th>\n",
       "      <td>A great touch.</td>\n",
       "      <td>1</td>\n",
       "      <td>[great, touch]</td>\n",
       "      <td>[great, touch]</td>\n",
       "      <td>[great, touch]</td>\n",
       "    </tr>\n",
       "  </tbody>\n",
       "</table>\n",
       "</div>"
      ],
      "text/plain": [
       "                                              Review  Liked  \\\n",
       "0                           Wow... Loved this place.      1   \n",
       "1                                 Crust is not good.      0   \n",
       "2          Not tasty and the texture was just nasty.      0   \n",
       "3  Stopped by during the late May bank holiday of...      1   \n",
       "4  The selection on the menu was great and so wer...      1   \n",
       "5     Now I am getting angry and I want my damn pho.      0   \n",
       "6              Honeslty it didn't taste THAT fresh.)      0   \n",
       "7  The potatoes were like rubber and you could te...      0   \n",
       "8                          The fries were great too.      1   \n",
       "9                                     A great touch.      1   \n",
       "\n",
       "                                        Review_clean  \\\n",
       "0                                [wow, loved, place]   \n",
       "1                                      [crust, good]   \n",
       "2                            [tasty, texture, nasty]   \n",
       "3  [stopped, late, may, bank, holiday, rick, stev...   \n",
       "4                   [selection, menu, great, prices]   \n",
       "5                  [getting, angry, want, damn, pho]   \n",
       "6                           [honeslty, taste, fresh]   \n",
       "7  [potatoes, like, rubber, could, tell, made, ah...   \n",
       "8                                     [fries, great]   \n",
       "9                                     [great, touch]   \n",
       "\n",
       "                                          Lemmatized  \\\n",
       "0                                [wow, loved, place]   \n",
       "1                                      [crust, good]   \n",
       "2                            [tasty, texture, nasty]   \n",
       "3  [stopped, late, may, bank, holiday, rick, stev...   \n",
       "4                    [selection, menu, great, price]   \n",
       "5                  [getting, angry, want, damn, pho]   \n",
       "6                           [honeslty, taste, fresh]   \n",
       "7  [potato, like, rubber, could, tell, made, ahea...   \n",
       "8                                       [fry, great]   \n",
       "9                                     [great, touch]   \n",
       "\n",
       "                                             Stemmed  \n",
       "0                                 [wow, love, place]  \n",
       "1                                      [crust, good]  \n",
       "2                             [tasti, textur, nasti]  \n",
       "3  [stop, late, may, bank, holiday, rick, steve, ...  \n",
       "4                       [select, menu, great, price]  \n",
       "5                      [get, angri, want, damn, pho]  \n",
       "6                            [honeslti, tast, fresh]  \n",
       "7  [potato, like, rubber, could, tell, made, ahea...  \n",
       "8                                       [fri, great]  \n",
       "9                                     [great, touch]  "
      ]
     },
     "execution_count": 48,
     "metadata": {},
     "output_type": "execute_result"
    }
   ],
   "source": [
    "dataset.head(10)"
   ]
  },
  {
   "cell_type": "code",
   "execution_count": null,
   "metadata": {
    "ExecuteTime": {
     "end_time": "2020-04-29T11:40:11.779253Z",
     "start_time": "2020-04-29T11:40:11.742611Z"
    }
   },
   "outputs": [],
   "source": []
  },
  {
   "cell_type": "markdown",
   "metadata": {},
   "source": [
    "* Define a function `'preprocess_all'` that applies all the preprocessing steps we defined above, **with** Stemming and Lemmatizing, to text."
   ]
  },
  {
   "cell_type": "code",
   "execution_count": 54,
   "metadata": {},
   "outputs": [],
   "source": [
    "def preprocess_all(data):\n",
    "    tokens = tokenize(data)\n",
    "    stripped = remove_punctuation(tokens)\n",
    "    lower_stripped = lower_case(stripped)\n",
    "    clean = remove_stopwords(lower_stripped)\n",
    "    stem = stem_text(clean)\n",
    "    lemma = lemmatize(stem)\n",
    "    clean_text = ' '.join(lemma)\n",
    "    return clean_text\n"
   ]
  },
  {
   "cell_type": "code",
   "execution_count": 55,
   "metadata": {},
   "outputs": [
    {
     "data": {
      "text/html": [
       "<div>\n",
       "<style scoped>\n",
       "    .dataframe tbody tr th:only-of-type {\n",
       "        vertical-align: middle;\n",
       "    }\n",
       "\n",
       "    .dataframe tbody tr th {\n",
       "        vertical-align: top;\n",
       "    }\n",
       "\n",
       "    .dataframe thead th {\n",
       "        text-align: right;\n",
       "    }\n",
       "</style>\n",
       "<table border=\"1\" class=\"dataframe\">\n",
       "  <thead>\n",
       "    <tr style=\"text-align: right;\">\n",
       "      <th></th>\n",
       "      <th>Review</th>\n",
       "      <th>Clean_text</th>\n",
       "    </tr>\n",
       "  </thead>\n",
       "  <tbody>\n",
       "    <tr>\n",
       "      <th>0</th>\n",
       "      <td>Wow... Loved this place.</td>\n",
       "      <td>wow love place</td>\n",
       "    </tr>\n",
       "    <tr>\n",
       "      <th>1</th>\n",
       "      <td>Crust is not good.</td>\n",
       "      <td>crust good</td>\n",
       "    </tr>\n",
       "    <tr>\n",
       "      <th>2</th>\n",
       "      <td>Not tasty and the texture was just nasty.</td>\n",
       "      <td>tasti textur nasti</td>\n",
       "    </tr>\n",
       "    <tr>\n",
       "      <th>3</th>\n",
       "      <td>Stopped by during the late May bank holiday of...</td>\n",
       "      <td>stop late may bank holiday rick steve recommen...</td>\n",
       "    </tr>\n",
       "    <tr>\n",
       "      <th>4</th>\n",
       "      <td>The selection on the menu was great and so wer...</td>\n",
       "      <td>select menu great price</td>\n",
       "    </tr>\n",
       "    <tr>\n",
       "      <th>...</th>\n",
       "      <td>...</td>\n",
       "      <td>...</td>\n",
       "    </tr>\n",
       "    <tr>\n",
       "      <th>995</th>\n",
       "      <td>I think food should have flavor and texture an...</td>\n",
       "      <td>think food flavor textur lack</td>\n",
       "    </tr>\n",
       "    <tr>\n",
       "      <th>996</th>\n",
       "      <td>Appetite instantly gone.</td>\n",
       "      <td>appetit instantli gone</td>\n",
       "    </tr>\n",
       "    <tr>\n",
       "      <th>997</th>\n",
       "      <td>Overall I was not impressed and would not go b...</td>\n",
       "      <td>overal impress would go back</td>\n",
       "    </tr>\n",
       "    <tr>\n",
       "      <th>998</th>\n",
       "      <td>The whole experience was underwhelming, and I ...</td>\n",
       "      <td>whole experi underwhelm think go ninja sushi n...</td>\n",
       "    </tr>\n",
       "    <tr>\n",
       "      <th>999</th>\n",
       "      <td>Then, as if I hadn't wasted enough of my life ...</td>\n",
       "      <td>wast enough life pour salt wound draw time too...</td>\n",
       "    </tr>\n",
       "  </tbody>\n",
       "</table>\n",
       "<p>1000 rows × 2 columns</p>\n",
       "</div>"
      ],
      "text/plain": [
       "                                                Review  \\\n",
       "0                             Wow... Loved this place.   \n",
       "1                                   Crust is not good.   \n",
       "2            Not tasty and the texture was just nasty.   \n",
       "3    Stopped by during the late May bank holiday of...   \n",
       "4    The selection on the menu was great and so wer...   \n",
       "..                                                 ...   \n",
       "995  I think food should have flavor and texture an...   \n",
       "996                           Appetite instantly gone.   \n",
       "997  Overall I was not impressed and would not go b...   \n",
       "998  The whole experience was underwhelming, and I ...   \n",
       "999  Then, as if I hadn't wasted enough of my life ...   \n",
       "\n",
       "                                            Clean_text  \n",
       "0                                       wow love place  \n",
       "1                                           crust good  \n",
       "2                                   tasti textur nasti  \n",
       "3    stop late may bank holiday rick steve recommen...  \n",
       "4                              select menu great price  \n",
       "..                                                 ...  \n",
       "995                      think food flavor textur lack  \n",
       "996                             appetit instantli gone  \n",
       "997                       overal impress would go back  \n",
       "998  whole experi underwhelm think go ninja sushi n...  \n",
       "999  wast enough life pour salt wound draw time too...  \n",
       "\n",
       "[1000 rows x 2 columns]"
      ]
     },
     "execution_count": 55,
     "metadata": {},
     "output_type": "execute_result"
    }
   ],
   "source": [
    "my_data = dataset[['Review']].copy()\n",
    "my_data['Clean_text'] = my_data['Review'].apply(preprocess_all)\n",
    "my_data"
   ]
  }
 ],
 "metadata": {
  "kernelspec": {
   "display_name": "ds_env",
   "language": "python",
   "name": "ds_env"
  },
  "language_info": {
   "codemirror_mode": {
    "name": "ipython",
    "version": 3
   },
   "file_extension": ".py",
   "mimetype": "text/x-python",
   "name": "python",
   "nbconvert_exporter": "python",
   "pygments_lexer": "ipython3",
   "version": "3.12.2"
  },
  "toc": {
   "base_numbering": 1,
   "nav_menu": {},
   "number_sections": true,
   "sideBar": true,
   "skip_h1_title": false,
   "title_cell": "Table of Contents",
   "title_sidebar": "Contents",
   "toc_cell": false,
   "toc_position": {},
   "toc_section_display": true,
   "toc_window_display": false
  },
  "varInspector": {
   "cols": {
    "lenName": 16,
    "lenType": 16,
    "lenVar": 40
   },
   "kernels_config": {
    "python": {
     "delete_cmd_postfix": "",
     "delete_cmd_prefix": "del ",
     "library": "var_list.py",
     "varRefreshCmd": "print(var_dic_list())"
    },
    "r": {
     "delete_cmd_postfix": ") ",
     "delete_cmd_prefix": "rm(",
     "library": "var_list.r",
     "varRefreshCmd": "cat(var_dic_list()) "
    }
   },
   "types_to_exclude": [
    "module",
    "function",
    "builtin_function_or_method",
    "instance",
    "_Feature"
   ],
   "window_display": false
  }
 },
 "nbformat": 4,
 "nbformat_minor": 2
}
